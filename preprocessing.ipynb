{
 "cells": [
  {
   "cell_type": "code",
   "execution_count": 4,
   "id": "bacterial-familiar",
   "metadata": {},
   "outputs": [
    {
     "name": "stdout",
     "output_type": "stream",
     "text": [
      "[[ 0.          0.          0.         ...  0.29160053 -0.10472654\n",
      "   0.85878655]\n",
      " [ 0.          0.          1.         ...  0.53950463 -0.96744395\n",
      "  -1.00949283]\n",
      " [ 0.          0.          1.         ... -0.17504248 -0.93685114\n",
      "  -1.00949283]\n",
      " ...\n",
      " [ 0.          0.          0.         ... -1.85204079 -0.55138165\n",
      "  -0.24519672]\n",
      " [ 0.          0.          0.         ...  0.05827903  0.25932798\n",
      "  -0.49996209]\n",
      " [ 0.          0.          0.         ...  0.51033944 -0.36782476\n",
      "   0.17941223]]\n"
     ]
    }
   ],
   "source": [
    "import numpy as np\n",
    "import matplotlib.pyplot as plt\n",
    "import pandas as pd\n",
    "\n",
    "dataset = pd.read_csv('Diabetes.csv')\n",
    "X = dataset.iloc[:,:-1].values\n",
    "y = dataset.iloc[:, -1].values\n",
    "\n",
    "from sklearn.impute import SimpleImputer\n",
    "imputer = SimpleImputer(missing_values=np.nan, strategy='mean')\n",
    "imputer.fit(X[:,1:3])\n",
    "X[:, 1:3] = imputer.transform(X[:, 1:3])\n",
    "\n",
    "from sklearn.compose import ColumnTransformer\n",
    "from sklearn.preprocessing import OneHotEncoder\n",
    "ct = ColumnTransformer(transformers=[('encoder', OneHotEncoder(), [0])], remainder='passthrough')\n",
    "X = np.array(ct.fit_transform(X))\n",
    "\n",
    "from sklearn.preprocessing import LabelEncoder\n",
    "le = LabelEncoder()\n",
    "y = le.fit_transform(y)\n",
    "\n",
    "from sklearn.model_selection import train_test_split\n",
    "X_training, X_testing, y_training, y_testing = train_test_split(X, y, test_size=0.63, random_state=42)\n",
    "\n",
    "from sklearn.preprocessing import StandardScaler\n",
    "sc = StandardScaler()\n",
    "X_training[:, 3:] = sc.fit_transform(X_training[:, 3:])\n",
    "X_testing[:, 3:] = sc.transform(X_testing[:, 3:])\n",
    "\n",
    "print(X_testing)"
   ]
  },
  {
   "cell_type": "code",
   "execution_count": null,
   "id": "sublime-outside",
   "metadata": {},
   "outputs": [],
   "source": []
  }
 ],
 "metadata": {
  "kernelspec": {
   "display_name": "Python 3",
   "language": "python",
   "name": "python3"
  },
  "language_info": {
   "codemirror_mode": {
    "name": "ipython",
    "version": 3
   },
   "file_extension": ".py",
   "mimetype": "text/x-python",
   "name": "python",
   "nbconvert_exporter": "python",
   "pygments_lexer": "ipython3",
   "version": "3.8.0"
  }
 },
 "nbformat": 4,
 "nbformat_minor": 5
}
